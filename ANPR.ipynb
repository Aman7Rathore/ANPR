{
  "nbformat": 4,
  "nbformat_minor": 0,
  "metadata": {
    "colab": {
      "name": "ANPR.ipynb",
      "provenance": [],
      "authorship_tag": "ABX9TyN1qrXk0oq72fIFvfTAqqte"
    },
    "kernelspec": {
      "name": "python3",
      "display_name": "Python 3"
    },
    "language_info": {
      "name": "python"
    }
  },
  "cells": [
    {
      "cell_type": "markdown",
      "source": [
        "**Importing the necessary libraries**"
      ],
      "metadata": {
        "id": "TFJL6BgnyiBo"
      }
    },
    {
      "cell_type": "code",
      "execution_count": 1,
      "metadata": {
        "id": "Ya_AUifgyT-C"
      },
      "outputs": [],
      "source": [
        "import cv2\n",
        "import time\n",
        "import matplotlib.pyplot as plt"
      ]
    },
    {
      "cell_type": "markdown",
      "source": [
        "**Creating Haar cascade classifier object**"
      ],
      "metadata": {
        "id": "ftEz2-E3yp24"
      }
    },
    {
      "cell_type": "code",
      "source": [
        "plate_cascade =cv2.CascadeClassifier('DATA/haarcascades/license_plate.xml') # Loads the data required for detecting the license plates from cascade classifier.\n",
        "# add the path to 'license_plate.xml' file."
      ],
      "metadata": {
        "id": "V0_qwPPMycBw"
      },
      "execution_count": 2,
      "outputs": []
    },
    {
      "cell_type": "markdown",
      "source": [
        "**This function is core part of the code**"
      ],
      "metadata": {
        "id": "cT5dO4VRy6fZ"
      }
    },
    {
      "cell_type": "code",
      "source": [
        "def detect_plate(img): # the function detects and perfors blurring on the number plate.\n",
        "    plate_img = img.copy()\n",
        "    roi = img.copy()\n",
        "    plate_rect = plate_cascade.detectMultiScale(plate_img, scaleFactor = 1.3, minNeighbors = 7) # detects numberplates and returns the coordinates and dimensions of detected license plate's contours.\n",
        "    for (x,y,w,h) in plate_rect:\n",
        "        \n",
        "        roi_ = roi[y:y+h, x:x+w, :] # extracting the Region of Interest of license plate for blurring.\n",
        "        blurred_roi = cv2.blur(roi_, ksize=(16,16)) # performing blur operation on the ROI\n",
        "        plate_img[y:y+h, x:x+w, :] = blurred_roi # replacing the original license plate with the blurred one.\n",
        "\n",
        "        cv2.rectangle(plate_img, (x,y), (x+w, y+h), (51,51,255), 3) # finally representing the detected contours by drawing rectangles around the edges.\n",
        "        \n",
        "    return plate_img # returning the processed image."
      ],
      "metadata": {
        "id": "k4rU6ebgycJU"
      },
      "execution_count": 3,
      "outputs": []
    },
    {
      "cell_type": "markdown",
      "source": [
        "**Run this part to take input directly from camera**"
      ],
      "metadata": {
        "id": "2fxv9lmizEnL"
      }
    },
    {
      "cell_type": "code",
      "source": [
        "#####################- Run this part to take input directly from camera -#####################\n",
        "\n",
        "# cam = cv2.VideoCapture(0)\n",
        "\n",
        "# while True:\n",
        "#     ret, frame = cam.read(0) # reading the input frame by frame.\n",
        "#     fr = detect_plate(frame) # sends each frame to the function for processing.\n",
        "#     cv2.imshow('video', fr) # displaying the output image.\n",
        "#     if(cv2.waitKey(1) & 0xFF == 27): # press 'Esc' key to exit anytime.\n",
        "#         break"
      ],
      "metadata": {
        "id": "GLjBXy61ycNe"
      },
      "execution_count": 5,
      "outputs": []
    },
    {
      "cell_type": "markdown",
      "source": [
        "**Run this part to take input from a video file**"
      ],
      "metadata": {
        "id": "dapfzM8ezNdQ"
      }
    },
    {
      "cell_type": "code",
      "source": [
        "#####################- Run this part to take input from a video file -#####################\n",
        "\n",
        "# cam = cv2.VideoCapture('car_plate_720p.mp4') # reading the video file.\n",
        "\n",
        "# while cam.isOpened():\n",
        "#     ret, frame = cam.read() # reading the file frame by frame.\n",
        "#     if ret == True:\n",
        "# #         time.sleep(1/20) # change the sleep time to increase the fps of output video.\n",
        "#         fr = detect_plate(frame) # sends each frame to the function for processing.\n",
        "#         cv2.imshow('video', fr) # displaying the output image.\n",
        "#         if(cv2.waitKey(1) & 0xFF == 27): # press 'Esc' key to exit anytime.\n",
        "#             break\n",
        "#     else:\n",
        "#         break"
      ],
      "metadata": {
        "id": "GYDAgxp3ycQY"
      },
      "execution_count": 4,
      "outputs": []
    },
    {
      "cell_type": "code",
      "source": [
        "Displaying the image using matplotlib"
      ],
      "metadata": {
        "id": "c1zu8IGmycTV"
      },
      "execution_count": null,
      "outputs": []
    },
    {
      "cell_type": "markdown",
      "source": [
        "**Displaying the image using matplotlib**"
      ],
      "metadata": {
        "id": "0huWlRtfzgdo"
      }
    },
    {
      "cell_type": "code",
      "source": [
        "def display(img_):\n",
        "    img = cv2.cvtColor(img_, cv2.COLOR_BGR2RGB)\n",
        "    fig = plt.figure(figsize=(10,6))\n",
        "    ax = plt.subplot(111)\n",
        "    ax.imshow(img)"
      ],
      "metadata": {
        "id": "2z-XWT1WycWH"
      },
      "execution_count": 6,
      "outputs": []
    },
    {
      "cell_type": "code",
      "source": [
        "img = cv2.imread('car_plate.jpg')\n",
        "display(img)"
      ],
      "metadata": {
        "id": "PqpxPS1pycY2"
      },
      "execution_count": null,
      "outputs": []
    },
    {
      "cell_type": "code",
      "source": [
        "output_img = detect_plate(img) "
      ],
      "metadata": {
        "id": "5_KBVynGycbc"
      },
      "execution_count": null,
      "outputs": []
    },
    {
      "cell_type": "markdown",
      "source": [
        "**Closing the windows after the program is complete**"
      ],
      "metadata": {
        "id": "fsyQhiwv0PLs"
      }
    },
    {
      "cell_type": "code",
      "source": [
        "cam.release()\n",
        "cv2.destroyAllWindows()"
      ],
      "metadata": {
        "id": "OdMJ6M7iyceF"
      },
      "execution_count": null,
      "outputs": []
    }
  ]
}